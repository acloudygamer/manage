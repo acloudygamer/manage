{
 "cells": [
  {
   "cell_type": "markdown",
   "metadata": {},
   "source": [
    "# Git项目管理总述\n",
    "1. 在Git中有工作区、暂存区和仓库，仓库也可以分为本地仓库和远程仓库。工作基本在本地仓库操作，将工作区的修改内容添加到暂存区，然后加上信息后提交\n",
    "   `git commit -a -m 'message' `可以实现暂存和提交一起使用\n",
    "2. 而在Git管理中最为重要的部分为分支和合并，创建分支并在其中进行工作，当分支中功能完善后便可以合并到主干。在个人开发中可以使用rebase变基直接将功能变道主干，\n",
    "这样可以减少主干上的分支数，更简洁清晰\n",
    "3. 暂存工作进度的栈\n",
    "   `git stash save \"描述信息\"`\n",
    "   功能保存当前的未提交修改，包括暂存区和工作区中的内容，将工作区和暂存区恢复到上一次提交的状态。\n",
    "   `git stash pop` 栈的弹出，将暂存的修改应用到当前工作区，还会从 stash 列表中移除该暂存项。\n",
    "   `git stash apply \"stash@{0}\" `将暂存的修改应用到当前工作区，但不会从 stash 列表中移除该暂存项,适用于你希望应用暂存项并移除它，不再需要保留的情况\n",
  
    "4. 分支修改后也是可以上传远程仓库的\n",
    "    现在我已经对分支进行了处理，其合并和解决冲突的方法为在工作区修改"
   ]
  },
  {
   "cell_type": "markdown",
   "metadata": {},
   "source": [
    "将别人的GitHub项目保存到自己的仓库\n",
    "‌1、Fork项目‌：\n",
    "登录到GitHub，找到你想要保存的项目。\n",
    "点击项目页面右上角的“Fork”按钮。这将创建一个该项目的副本到你的GitHub仓库中\n",
    "2、在GitHub上找到你刚刚Fork的项目页面，复制项目的HTTPS克隆地址。\n",
    "3、打开本地终端或命令行界面，进入你想要保存项目的目录。\n",
    "cd D:\\Zcloudq_666\\Python-100-Days\n",
    "D:\n",
    "4、使用git clone将仓库文件下载到指定目录下\n",
    "git clone https://github.com/your-username/your-repository.git  （这种方式仓库名也会保留，所以不需要在新建一个文件夹）"
   ]
  },
  {
   "cell_type": "markdown",
   "metadata": {},
   "source": [
    "GitHub CLI仓库下载保存\n",
    "1、登录（可选）\n",
    "gh auth login\n",
    "2、仓库克隆到特定目录\n",
    "gh repo clone acloudygamer/Python-100-Days D:\\Zcloudq_666\\Python-100-Days\n",
    "GitHub CLI 会默认使用 https 协议进行克隆。\n",
    "\n",
    "3、git clone指定目录(普通)\n",
    "如果你想确保使用 https 协议，可以直接使用 git clone 命令：\n",
    "git clone https://github.com/acloudygamer/Python-100-Days.git D:\\Zcloudq_666\\Python-100-Days  （文件夹不存在会自动创建）\n",
    "\n",
    "注意点在使用clash代理的情况下，出现unable to access，OpenSSL SSL_read: SSL_ERROR_SYSCALL, errno 0 \n",
    "这是因为没有在git中设置全局代理导致的，查看全局代理的命令为\n",
    "git config --global --get http.proxy\n",
    "git config --global --get https.proxy\n",
    "但有时代理不开，也依然可以克隆\n",
    "git config --global --unset http.proxy     这条命令会取消Git全局配置中设置的HTTP代理。\n",
    "git config --global --unset https.proxy    这条命令会取消Git全局配置中设置的HTTPS代理。\n"
   ]
  },
  {
   "cell_type": "markdown",
   "metadata": {},
   "source": [
    "使用git管理需要对git设定，设置自己的用户名和邮箱\n",
    "\n",
    "git config --global user.name \"acloudygamer\"\n",
    "git config --global user.email \"2095581528@qq.com\"\n",
    "\n",
    "Git报错： Failed to connect to github.com port 443 解决方案\n",
    "\n",
    "配置http代理\n",
    "\n",
    " git config --global http.proxy 127.0.0.1:7890\n",
    " git config --global https.proxy 127.0.0.1:7890\n"
   ]
  },
  {
   "cell_type": "markdown",
   "metadata": {},
   "source": [
    "代码管理，本地修改后上传\n",
    "1、命令行进入仓库目录\n",
    "cd D:\\Zcloudq_666\\Python-100-Days\n",
    "D:\n",
    "2、查看本地仓库的改变情况\n",
    "git status\n",
    "3、确认修改\n",
    "git add <file_name>\n",
    "git add -A  \n",
    "4、提交修改\n",
    "git commit -m \"第二次\"\n",
    "5、推到远程仓库\n",
    "git push origin master\n",
    "\n",
    "查看当前远程仓库的详细信息\n",
    "git remote -v\n",
    "\n",
    "回退\n",
    "git reset --mixed（默认的混合模式会清空暂存区,保留工作区）\n",
    "\n",
    "查看提交历史\n",
    "git log\n",
    "\n",
    "误操作返回\n",
    "git log --oneline\n"
   ]
  },
  {
   "cell_type": "markdown",
   "metadata": {},
   "source": [
    "本地文件夹构建仓库上传\n",
    "1、命令行进入当前需要操作的目录\n",
    "cd D:\\Zcloudq_666\\Python-100-Days\n",
    "D:\n",
    "2、初始化 Git 仓库\n",
    "git init （my-repo）  括号中的含义在当前目录下再创建一个目录，这个目录才是仓库，可做可不做\n",
    "3、创建远程仓库\n",
    "进入 GitHub\n",
    "创建一个新的仓库（例如 my_project）\n",
    "复制仓库的远程地址（例如 https://github.com/yourname/my_project.git）\n",
    "4、关联远程仓库\n",
    "git remote add origin https://github.com/yourname/my_project.git\n",
    "检查远程仓库是否添加成功：\n",
    "git remote -v\n",
    "\n",
    "使用gh会更方便\n",
    "1、进入目录\n",
    "2、初始化（前两步同上）\n",
    "3、 添加所有文件\n",
    "git add -A\n",
    "4、提交代码\n",
    "git commit -m \"第一次修改\"\n",
    "5、创建仓库\n",
    "gh repo create manage --public --source=. --push\n",
    "\n",
    "my_project：GitHub 仓库名\n",
    "--private：创建私有仓库（改成 --public 可创建公开仓库）\n",
    "--source=.：指定当前文件夹作为 Git 仓库\n",
    "--push：自动推送已有代码\n"
   ]
  },
  {
   "cell_type": "markdown",
   "metadata": {},
   "source": [
    "重新绑定仓库\n",
    "1、检测远程仓库\n",
    "git remote -v\n",
    "2、手动绑定仓库\n",
    "git remote remove origin\n",
    "git remote add origin https://github.com/acloudygamer/manage.git\n",
    "3、手动推送\n",
    "git push origin master"
   ]
  },
  {
   "cell_type": "markdown",
   "metadata": {},
   "source": [
    "不关键的问题，或许在同时使用Linux系统与Windows时需要考虑\n",
    "遇到问题warning: in the working copy of 'first.ipynb', LF will be replaced by CRLF the next time Git touches it\n",
    "方案 可以禁用 Git 的换行符转换，保持 LF 格式：\n",
    "git config --global core.autocrlf false\n",
    "确保 Git 始终使用 LF\n",
    "git config --global core.eol lf\n",
    "\n",
    "按 Ctrl + Shift + P（打开命令面板）。\n",
    "输入 Change End of Line Sequence，然后按 Enter。\n",
    "VSCode 会显示当前文件的换行符格式：\n",
    "LF (Unix)\n",
    "CRLF (Windows)\n",
    "如果显示 CRLF，可以手动选择 LF 并保存。"
   ]
  },
  {
   "cell_type": "code",
   "execution_count": null,
   "metadata": {},
   "outputs": [],
   "source": [
    "在vscode中内置了git源码管理的可视化功能，所以在仓库初始化完毕，并连接上github上具体的仓库时便可以直接修改\n",
    "我们可以是用上述gh的方法，在不登陆github前提下，建立仓库"
   ]
  },
  {
   "cell_type": "code",
   "execution_count": null,
   "metadata": {},
   "outputs": [],
   "source": [
    "SSH协议，其在私有库以及团队协作中可以大量减少项目间的验证操作\n",
    "1、设置SSH\n",
    "ssh-keygen -t rsa -C \"2095581528@qq.com\"\n",
    "2、生成密钥\n",
    "C:\\Users\\zyq/.ssh/id_rsa 生成后位置\n",
    "3、用记事本打开复制密钥\n",
    "4、给github添加公钥"
   ]
  },
  {
   "cell_type": "code",
   "execution_count": null,
   "metadata": {},
   "outputs": [],
   "source": [
    "分支管理\n",
    "创建分支\n",
    "git branch dev（会复制主干内容）\n",
    "\n",
    "分支切换\n",
    "git checkout dev   （checkout也有恢复文件到工作区的作用）\n",
    "运行git checkout <commit>或git checkout <branch> -- <file>，它会从指定的提交或分支中恢复文件到工作区。\n",
    "新版用git switch dev\n",
    "\n",
    "分支合并\n",
    "git merge dev\n",
    "\n",
    "合并后分支不会删除,需要手动删除\n",
    "git branch -d dev\n",
    "\n",
    "合并冲突问题，假如两个分支修改了同一个文件的同一行代码\n",
    "出现时使用git diff查看具体内容\n",
    "在linux中使用       vi main1.txt  修改工作区文件\n",
    "git add -A\n",
    "git commit -m ''\n",
    "\n",
    "变基\n",
    "git rebase\n"
   ]
  },
  {
   "cell_type": "code",
   "execution_count": null,
   "metadata": {},
   "outputs": [],
   "source": [
    "分支测试操作"
   ]
  }
 ],
 "metadata": {
  "kernelspec": {
   "display_name": "tf-GPU",
   "language": "python",
   "name": "python3"
  },
  "language_info": {
   "name": "python",
   "version": "3.8.18"
  }
 },
 "nbformat": 4,
 "nbformat_minor": 2
}
