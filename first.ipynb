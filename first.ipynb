{
 "cells": [
  {
   "cell_type": "markdown",
   "metadata": {},
   "source": [
    "将别人的GitHub项目保存到自己的仓库\n",
    "‌1、Fork项目‌：\n",
    "登录到GitHub，找到你想要保存的项目。\n",
    "点击项目页面右上角的“Fork”按钮。这将创建一个该项目的副本到你的GitHub仓库中\n",
    "2、在GitHub上找到你刚刚Fork的项目页面，复制项目的HTTPS克隆地址。\n",
    "3、打开本地终端或命令行界面，进入你想要保存项目的目录。\n",
    "cd D:\\Zcloudq_666\\Python-100-Days\n",
    "D:\n",
    "4、使用git clone将仓库文件下载到指定目录下\n",
    "git clone https://github.com/your-username/your-repository.git  （这种方式仓库名也会保留，所以不需要在新建一个文件夹）"
   ]
  },
  {
   "cell_type": "markdown",
   "metadata": {},
   "source": [
    "GitHub CLI仓库下载保存\n",
    "1、登录（可选）\n",
    "gh auth login\n",
    "2、仓库克隆到特定目录\n",
    "gh repo clone acloudygamer/Python-100-Days D:\\Zcloudq_666\\Python-100-Days\n",
    "GitHub CLI 会默认使用 https 协议进行克隆。\n",
    "\n",
    "3、git clone指定目录(普通)\n",
    "如果你想确保使用 https 协议，可以直接使用 git clone 命令：\n",
    "git clone https://github.com/acloudygamer/Python-100-Days.git D:\\Zcloudq_666\\Python-100-Days  （文件夹不存在会自动创建）\n",
    "\n",
    "注意点在使用clash代理的情况下，出现unable to access，OpenSSL SSL_read: SSL_ERROR_SYSCALL, errno 0 （建议关闭代理）\n",
    "但有时代理开着，也依然可以克隆，说一下可能的解决方法\n",
    "git config --global --unset http.proxy     这条命令会取消Git全局配置中设置的HTTP代理。\n",
    "git config --global --unset https.proxy    这条命令会取消Git全局配置中设置的HTTPS代理。\n"
   ]
  },
  {
   "cell_type": "markdown",
   "metadata": {},
   "source": [
    "使用git管理需要对git设定，设置自己的用户名和邮箱\n",
    "\n",
    "git config --global user.name \"acloudygamer\"\n",
    "git config --global user.email \"2095581528@qq.com\"\n"
   ]
  },
  {
   "cell_type": "markdown",
   "metadata": {},
   "source": [
    "代码管理，本地修改后上传\n",
    "1、命令行进入仓库目录\n",
    "cd D:\\Zcloudq_666\\Python-100-Days\n",
    "D:\n",
    "2、查看本地仓库的改变情况\n",
    "git status\n",
    "3、确认修改\n",
    "git add <file_name>\n",
    "git add -A  \n",
    "4、提交修改\n",
    "git commit -m \"第一次修改\"\n",
    "5、推到远程仓库\n",
    "git push origin master\n",
    "\n",
    "查看当前远程仓库的详细信息\n",
    "git remote -v\n",
    "\n",
    "回退\n",
    "git reset -hard x\n",
    "\n",
    "查看提交历史\n",
    "git log\n",
    "\n"
   ]
  },
  {
   "cell_type": "markdown",
   "metadata": {},
   "source": [
    "本地文件夹构建仓库上传\n",
    "1、命令行进入当前需要操作的目录\n",
    "cd D:\\Zcloudq_666\\Python-100-Days\n",
    "D:\n",
    "2、初始化 Git 仓库\n",
    "git init\n",
    "3、创建远程仓库\n",
    "进入 GitHub\n",
    "创建一个新的仓库（例如 my_project）\n",
    "复制仓库的远程地址（例如 https://github.com/yourname/my_project.git）\n",
    "4、关联远程仓库\n",
    "git remote add origin https://github.com/yourname/my_project.git\n",
    "检查远程仓库是否添加成功：\n",
    "git remote -v\n",
    "\n",
    "使用gh会更方便\n",
    "1、进入目录\n",
    "2、初始化（前两步同上）\n",
    "3、 添加所有文件\n",
    "git add -A\n",
    "4、提交代码\n",
    "git commit -m \"初始化项目\"\n",
    "5、创建仓库\n",
    "gh repo create manage --public --source=. --push\n",
    "\n",
    "my_project：GitHub 仓库名\n",
    "--private：创建私有仓库（改成 --public 可创建公开仓库）\n",
    "--source=.：指定当前文件夹作为 Git 仓库\n",
    "--push：自动推送已有代码\n"
   ]
  },
  {
   "cell_type": "code",
   "execution_count": null,
   "metadata": {},
   "outputs": [],
   "source": [
    "重新绑定仓库\n",
    "1、检测远程仓库\n",
    "git remote -v\n",
    "2、手动绑定仓库\n",
    "git remote remove origin\n",
    "git remote add origin https://github.com/acloudygamer/manage.git\n",
    "3、手动推送\n",
    "git push origin master"
   ]
  }
 ],
 "metadata": {
  "kernelspec": {
   "display_name": "Python 3",
   "language": "python",
   "name": "python3"
  },
  "language_info": {
   "name": "python",
   "version": "3.10.2"
  }
 },
 "nbformat": 4,
 "nbformat_minor": 2
}
